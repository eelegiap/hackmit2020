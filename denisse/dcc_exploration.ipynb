{
 "cells": [
  {
   "cell_type": "markdown",
   "metadata": {},
   "source": [
    "# Students whose Parents/Guardians Speak English"
   ]
  },
  {
   "cell_type": "markdown",
   "metadata": {},
   "source": [
    "Goal:calculate number of students in US who live in a household where English is not the home language \n",
    "\n",
    "## 1. Find K12 student responses "
   ]
  },
  {
   "cell_type": "code",
   "execution_count": 23,
   "metadata": {},
   "outputs": [],
   "source": [
    "import numpy as np\n",
    "import pandas as pd\n",
    "import matplotlib.pyplot as plt\n",
    "import json\n",
    "data = pd.read_csv(\"acs_data.csv\")"
   ]
  },
  {
   "cell_type": "code",
   "execution_count": 18,
   "metadata": {},
   "outputs": [
    {
     "data": {
      "text/plain": [
       "numpy.ndarray"
      ]
     },
     "execution_count": 18,
     "metadata": {},
     "output_type": "execute_result"
    }
   ],
   "source": [
    "#Creates series of only respondents in who are students\n",
    "all_students = data[data['SCHOOL'] == 2]\n",
    "\n",
    "#But then we also want to drop students not in K-12 \n",
    "k12_students = all_students[(all_students.GRADEATT != 1) & (all_students['GRADEATT'] != 6) & (all_students['GRADEATT'] != 7)]\n",
    "\n",
    "#\"Response rate\" refers to the rate of values that are not N/A\n",
    "#for SCHOOL attribute\n",
    "#0 Missing data \n",
    "#1 Not in school \n",
    "#2 Yes, in school \n",
    "\n",
    "len(k12_students[k12_students['SCHOOL'] != 0])/len(k12_students)"
   ]
  },
  {
   "cell_type": "code",
   "execution_count": null,
   "metadata": {},
   "outputs": [],
   "source": [
    "# Inclusion of GRADEATT attribute (among students) is 100% (this is good)\n",
    "counts = all_students.groupby('GRADEATT').count()['YEAR']\n",
    "counts"
   ]
  },
  {
   "cell_type": "code",
   "execution_count": 20,
   "metadata": {
    "scrolled": true
   },
   "outputs": [
    {
     "data": {
      "text/plain": [
       "0           1\n",
       "1           1\n",
       "2          12\n",
       "3           1\n",
       "4           1\n",
       "           ..\n",
       "3214534     1\n",
       "3214535     1\n",
       "3214536     1\n",
       "3214537     1\n",
       "3214538     1\n",
       "Name: LANGUAGE, Length: 3214539, dtype: int64"
      ]
     },
     "execution_count": 20,
     "metadata": {},
     "output_type": "execute_result"
    }
   ],
   "source": [
    "# Check to make sure we only have K-12 students\n",
    "counts = k12_students.groupby('GRADEATT').count()['YEAR']\n",
    "counts"
   ]
  },
  {
   "cell_type": "markdown",
   "metadata": {},
   "source": [
    "## 2. Find non-English language speaker parents with kids in K12 "
   ]
  },
  {
   "cell_type": "code",
   "execution_count": null,
   "metadata": {},
   "outputs": [],
   "source": [
    "#first we need to filter out households without school going kids \n",
    "#then we need to find how many moms and dads do not speak english from the ones that are left\n",
    "\n",
    "#figure out the house ids for these k12 kids and then find the mom and dad language for that house ]\n"
   ]
  }
 ],
 "metadata": {
  "kernelspec": {
   "display_name": "Python 3",
   "language": "python",
   "name": "python3"
  },
  "language_info": {
   "codemirror_mode": {
    "name": "ipython",
    "version": 3
   },
   "file_extension": ".py",
   "mimetype": "text/x-python",
   "name": "python",
   "nbconvert_exporter": "python",
   "pygments_lexer": "ipython3",
   "version": "3.7.6"
  }
 },
 "nbformat": 4,
 "nbformat_minor": 4
}
