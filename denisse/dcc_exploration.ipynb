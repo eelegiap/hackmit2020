{
 "cells": [
  {
   "cell_type": "code",
   "execution_count": 2,
   "metadata": {},
   "outputs": [],
   "source": [
    "import numpy as np\n",
    "\n",
    "import pandas as pd"
   ]
  },
  {
   "cell_type": "code",
   "execution_count": 16,
   "metadata": {},
   "outputs": [],
   "source": [
    "data = pd.read_csv(\"acs_data.csv\")"
   ]
  },
  {
   "cell_type": "code",
   "execution_count": 24,
   "metadata": {},
   "outputs": [
    {
     "data": {
      "text/plain": [
       "['YEAR',\n",
       " 'SAMPLE',\n",
       " 'SERIAL',\n",
       " 'CBSERIAL',\n",
       " 'HHWT',\n",
       " 'CLUSTER',\n",
       " 'REGION',\n",
       " 'STATEFIP',\n",
       " 'COUNTYFIP',\n",
       " 'DENSITY',\n",
       " 'CITY',\n",
       " 'STRATA',\n",
       " 'GQ',\n",
       " 'MORTGAGE',\n",
       " 'PROPINSR',\n",
       " 'COSTELEC',\n",
       " 'HHINCOME',\n",
       " 'FOODSTMP',\n",
       " 'VALUEH',\n",
       " 'LINGISOL',\n",
       " 'ROOMS',\n",
       " 'CINETHH',\n",
       " 'CILAPTOP',\n",
       " 'CISMRTPHN',\n",
       " 'CITABLET',\n",
       " 'CIOTHCOMP',\n",
       " 'CIDATAPLN',\n",
       " 'CIHISPEED',\n",
       " 'CISAT',\n",
       " 'CIDIAL',\n",
       " 'MULTGEN',\n",
       " 'MULTGEND',\n",
       " 'PERNUM',\n",
       " 'PERWT',\n",
       " 'FAMSIZE',\n",
       " 'RACE',\n",
       " 'RACED',\n",
       " 'HISPAN',\n",
       " 'HISPAND',\n",
       " 'CITIZEN',\n",
       " 'LANGUAGE',\n",
       " 'LANGUAGED',\n",
       " 'SPEAKENG',\n",
       " 'EMPSTAT',\n",
       " 'EMPSTATD',\n",
       " 'FTOTINC',\n",
       " 'POVERTY']"
      ]
     },
     "execution_count": 24,
     "metadata": {},
     "output_type": "execute_result"
    }
   ],
   "source": [
    "list(data.columns)"
   ]
  },
  {
   "cell_type": "markdown",
   "metadata": {},
   "source": [
    "Things to do: figure out which data is missing "
   ]
  }
 ],
 "metadata": {
  "kernelspec": {
   "display_name": "Python 3",
   "language": "python",
   "name": "python3"
  },
  "language_info": {
   "codemirror_mode": {
    "name": "ipython",
    "version": 3
   },
   "file_extension": ".py",
   "mimetype": "text/x-python",
   "name": "python",
   "nbconvert_exporter": "python",
   "pygments_lexer": "ipython3",
   "version": "3.7.6"
  }
 },
 "nbformat": 4,
 "nbformat_minor": 4
}
