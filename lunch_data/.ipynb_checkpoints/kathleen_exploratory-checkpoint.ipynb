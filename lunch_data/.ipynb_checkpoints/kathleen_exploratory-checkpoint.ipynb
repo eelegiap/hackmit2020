{
 "cells": [
  {
   "cell_type": "markdown",
   "metadata": {},
   "source": [
    "# Free and reduced lunch"
   ]
  },
  {
   "cell_type": "code",
   "execution_count": 1,
   "metadata": {},
   "outputs": [],
   "source": [
    "import numpy as np\n",
    "import pandas as pd\n",
    "import matplotlib.pyplot as plt\n",
    "import plotly.express as px\n",
    "import json\n",
    "from pprint import pprint"
   ]
  },
  {
   "cell_type": "markdown",
   "metadata": {},
   "source": [
    "### Lunch Data\n",
    "\n",
    "2018-19\n",
    "\n",
    "Sources:\n",
    "\n",
    "https://www.countyhealthrankings.org/app/alaska/2020/measure/factors/65/data?sort=sc-2\n",
    "\n",
    "https://nces.ed.gov/ccd/elsi/tableGenerator.aspx\n",
    "\n",
    "https://datacenter.kidscount.org/data/tables/2979-free-reduced-price-school-lunch-participation#detailed/2/any/false/1729,37,871,870,573,869,36,868,867,133/any/13216,10109\n",
    "\n",
    "https://www.azed.gov/hns/frp\n",
    "\n",
    "http://www.doe.mass.edu/cnp/nprograms/fy2019-free-meals.html#\n",
    "\n",
    "https://nces.ed.gov/programs/digest/d17/tables/dt17_204.10.asp\n",
    "Overall is 50%\n"
   ]
  },
  {
   "cell_type": "code",
   "execution_count": 2,
   "metadata": {},
   "outputs": [],
   "source": [
    "import json\n",
    "from urllib.request import urlopen\n",
    "\n",
    "# geometry information for US counties\n",
    "with urlopen('https://raw.githubusercontent.com/plotly/datasets/master/geojson-counties-fips.json') as response:\n",
    "    counties = json.load(response)"
   ]
  },
  {
   "cell_type": "code",
   "execution_count": 3,
   "metadata": {},
   "outputs": [],
   "source": [
    "us_state_abbrev = {\n",
    "    'Alabama': 'AL',\n",
    "    'Alaska': 'AK',\n",
    "    'American Samoa': 'AS',\n",
    "    'Arizona': 'AZ',\n",
    "    'Arkansas': 'AR',\n",
    "    'California': 'CA',\n",
    "    'Colorado': 'CO',\n",
    "    'Connecticut': 'CT',\n",
    "    'Delaware': 'DE',\n",
    "    'District of Columbia': 'DC',\n",
    "    'Florida': 'FL',\n",
    "    'Georgia': 'GA',\n",
    "    'Guam': 'GU',\n",
    "    'Hawaii': 'HI',\n",
    "    'Idaho': 'ID',\n",
    "    'Illinois': 'IL',\n",
    "    'Indiana': 'IN',\n",
    "    'Iowa': 'IA',\n",
    "    'Kansas': 'KS',\n",
    "    'Kentucky': 'KY',\n",
    "    'Louisiana': 'LA',\n",
    "    'Maine': 'ME',\n",
    "    'Maryland': 'MD',\n",
    "    'Massachusetts': 'MA',\n",
    "    'Michigan': 'MI',\n",
    "    'Minnesota': 'MN',\n",
    "    'Mississippi': 'MS',\n",
    "    'Missouri': 'MO',\n",
    "    'Montana': 'MT',\n",
    "    'Nebraska': 'NE',\n",
    "    'Nevada': 'NV',\n",
    "    'New Hampshire': 'NH',\n",
    "    'New Jersey': 'NJ',\n",
    "    'New Mexico': 'NM',\n",
    "    'New York': 'NY',\n",
    "    'North Carolina': 'NC',\n",
    "    'North Dakota': 'ND',\n",
    "    'Northern Mariana Islands':'MP',\n",
    "    'Ohio': 'OH',\n",
    "    'Oklahoma': 'OK',\n",
    "    'Oregon': 'OR',\n",
    "    'Pennsylvania': 'PA',\n",
    "    'Puerto Rico': 'PR',\n",
    "    'Rhode Island': 'RI',\n",
    "    'South Carolina': 'SC',\n",
    "    'South Dakota': 'SD',\n",
    "    'Tennessee': 'TN',\n",
    "    'Texas': 'TX',\n",
    "    'Utah': 'UT',\n",
    "    'Vermont': 'VT',\n",
    "    'Virgin Islands': 'VI',\n",
    "    'Virginia': 'VA',\n",
    "    'Washington': 'WA',\n",
    "    'West Virginia': 'WV',\n",
    "    'Wisconsin': 'WI',\n",
    "    'Wyoming': 'WY'\n",
    "}\n",
    "abbrev_us_state = dict(map(reversed, us_state_abbrev.items()))\n",
    "# abbrev_us_state"
   ]
  },
  {
   "cell_type": "code",
   "execution_count": 4,
   "metadata": {
    "scrolled": true
   },
   "outputs": [
    {
     "data": {
      "text/html": [
       "<div>\n",
       "<style scoped>\n",
       "    .dataframe tbody tr th:only-of-type {\n",
       "        vertical-align: middle;\n",
       "    }\n",
       "\n",
       "    .dataframe tbody tr th {\n",
       "        vertical-align: top;\n",
       "    }\n",
       "\n",
       "    .dataframe thead th {\n",
       "        text-align: right;\n",
       "    }\n",
       "</style>\n",
       "<table border=\"1\" class=\"dataframe\">\n",
       "  <thead>\n",
       "    <tr style=\"text-align: right;\">\n",
       "      <th></th>\n",
       "      <th>County Name</th>\n",
       "      <th>County Name [Public School] 2018-19</th>\n",
       "      <th>County Number [Public School] 2018-19</th>\n",
       "      <th>Total Students All Grades (Excludes AE) [Public School] 2018-19</th>\n",
       "      <th>Free Lunch Eligible [Public School] 2018-19</th>\n",
       "      <th>Direct Certification [Public School] 2018-19</th>\n",
       "      <th>Reduced-price Lunch Eligible Students [Public School] 2018-19</th>\n",
       "      <th>Free and Reduced Lunch Students [Public School] 2018-19</th>\n",
       "      <th>Full-Time Equivalent (FTE) Teachers [Public School] 2018-19</th>\n",
       "      <th>Pupil/Teacher Ratio [Public School] 2018-19</th>\n",
       "    </tr>\n",
       "  </thead>\n",
       "  <tbody>\n",
       "    <tr>\n",
       "      <th>0</th>\n",
       "      <td>Abbeville County SC</td>\n",
       "      <td>Abbeville County</td>\n",
       "      <td>45001</td>\n",
       "      <td>3154</td>\n",
       "      <td>1889</td>\n",
       "      <td>1273</td>\n",
       "      <td>232</td>\n",
       "      <td>2121</td>\n",
       "      <td>236.00</td>\n",
       "      <td>13.36</td>\n",
       "    </tr>\n",
       "    <tr>\n",
       "      <th>1</th>\n",
       "      <td>Acadia Parish LA</td>\n",
       "      <td>Acadia Parish</td>\n",
       "      <td>22001</td>\n",
       "      <td>9762</td>\n",
       "      <td>5073</td>\n",
       "      <td>–</td>\n",
       "      <td>–</td>\n",
       "      <td>5073</td>\n",
       "      <td>519.19</td>\n",
       "      <td>18.80</td>\n",
       "    </tr>\n",
       "  </tbody>\n",
       "</table>\n",
       "</div>"
      ],
      "text/plain": [
       "             County Name County Name [Public School] 2018-19  \\\n",
       "0  Abbeville County SC                      Abbeville County   \n",
       "1     Acadia Parish LA                         Acadia Parish   \n",
       "\n",
       "   County Number [Public School] 2018-19  \\\n",
       "0                                  45001   \n",
       "1                                  22001   \n",
       "\n",
       "  Total Students All Grades (Excludes AE) [Public School] 2018-19  \\\n",
       "0                                               3154                \n",
       "1                                               9762                \n",
       "\n",
       "  Free Lunch Eligible [Public School] 2018-19  \\\n",
       "0                                        1889   \n",
       "1                                        5073   \n",
       "\n",
       "  Direct Certification [Public School] 2018-19  \\\n",
       "0                                         1273   \n",
       "1                                            –   \n",
       "\n",
       "  Reduced-price Lunch Eligible Students [Public School] 2018-19  \\\n",
       "0                                                232              \n",
       "1                                                  –              \n",
       "\n",
       "  Free and Reduced Lunch Students [Public School] 2018-19  \\\n",
       "0                                               2121        \n",
       "1                                               5073        \n",
       "\n",
       "  Full-Time Equivalent (FTE) Teachers [Public School] 2018-19  \\\n",
       "0                                             236.00            \n",
       "1                                             519.19            \n",
       "\n",
       "  Pupil/Teacher Ratio [Public School] 2018-19  \n",
       "0                                       13.36  \n",
       "1                                       18.80  "
      ]
     },
     "execution_count": 4,
     "metadata": {},
     "output_type": "execute_result"
    }
   ],
   "source": [
    "data = pd.read_csv(\"nces_lunch.csv\")\n",
    "data.head(2)"
   ]
  },
  {
   "cell_type": "markdown",
   "metadata": {},
   "source": [
    "#### by State"
   ]
  },
  {
   "cell_type": "code",
   "execution_count": 5,
   "metadata": {},
   "outputs": [],
   "source": [
    "states = {}\n",
    "for i in range(len(data)):\n",
    "    state_abb = data[\"County Name\"][i].split()[-1]\n",
    "    state_name = abbrev_us_state[state_abb]\n",
    "    \n",
    "    if state_name not in states:\n",
    "        states[state_name]={\"frl\":0, \"all\":0}\n",
    "\n",
    "    # get number of students\n",
    "    frl_students = data[\"Free and Reduced Lunch Students [Public School] 2018-19\"][i]\n",
    "    all_students = data[\"Total Students All Grades (Excludes AE) [Public School] 2018-19\"][i]\n",
    "    if frl_students in ['–', \"†\",'‡', \"0\"]:\n",
    "        frl_students = 0\n",
    "    if all_students in ['–', \"†\",'‡', \"0\"]:\n",
    "        all_students = 0\n",
    "    else:\n",
    "        states[state_name][\"frl\"] += int(frl_students)\n",
    "        states[state_name][\"all\"] += int(all_students)"
   ]
  },
  {
   "cell_type": "code",
   "execution_count": 9,
   "metadata": {},
   "outputs": [
    {
     "name": "stdout",
     "output_type": "stream",
     "text": [
      "45\n"
     ]
    }
   ],
   "source": [
    "# manually enter missing data\n",
    "arizona = 519313/1136253\n",
    "print(int(100*arizona))\n",
    "states[\"Arizona\"][\"frl\"] = 519313\n",
    "\n",
    "states[\"Tennessee\"][\"frl\"] = 47\n",
    "states[\"Tennessee\"][\"all\"] = 100\n",
    "\n",
    "states[\"Massachusetts\"][\"frl\"] = 50\n",
    "states[\"Massachusetts\"][\"all\"] = 100\n",
    "\n",
    "states[\"Delaware\"][\"frl\"] = 37\n",
    "states[\"Delaware\"][\"all\"] = 100\n",
    "\n",
    "states[\"District of Columbia\"][\"frl\"] = 76\n",
    "states[\"District of Columbia\"][\"all\"] = 100"
   ]
  },
  {
   "cell_type": "code",
   "execution_count": 10,
   "metadata": {},
   "outputs": [],
   "source": [
    "state_list = []\n",
    "value_list = []\n",
    "for state, counts in states.items():\n",
    "    state_list.append(state)\n",
    "    value_list.append(int(100*counts[\"frl\"]/counts[\"all\"]))\n",
    "to_csv = {\"AREANM\": state_list, \"AREACD\": state_list, \"value\":value_list}\n",
    "df_frl_state = pd.DataFrame(to_csv)\n",
    "df_frl_state.to_csv(\"frl_by_state.csv\", index=False)"
   ]
  },
  {
   "cell_type": "code",
   "execution_count": 18,
   "metadata": {},
   "outputs": [
    {
     "data": {
      "text/plain": [
       "[24, 34, 45, 55, 66, 77]"
      ]
     },
     "execution_count": 18,
     "metadata": {},
     "output_type": "execute_result"
    }
   ],
   "source": [
    "[int(x) for x in np.linspace(min(value_list), max(value_list)+1, 7)]"
   ]
  },
  {
   "cell_type": "code",
   "execution_count": 11,
   "metadata": {},
   "outputs": [
    {
     "name": "stdout",
     "output_type": "stream",
     "text": [
      "‡ 10587\n",
      "‡ 20044\n",
      "‡ 18604\n",
      "‡ 7591\n",
      "‡ 6966\n",
      "‡ 1914\n",
      "‡ 2504\n",
      "‡ 749198\n",
      "‡ 24100\n",
      "‡ 18025\n",
      "‡ 147358\n",
      "‡ 58798\n",
      "‡ 6993\n",
      "‡ 24655\n"
     ]
    }
   ],
   "source": [
    "lunch_fips = [\"0\"+str(f) if len(str(f)) == 4 else str(f) for f in list(data[\"County Number [Public School] 2018-19\"])]\n",
    "\n",
    "#example_fips = list(df[\"fips\"]) # longer than lunch fips\n",
    "frl_students = [num for num in list(data[\"Free and Reduced Lunch Students [Public School] 2018-19\"])]\n",
    "all_students = [num for num in list(data[\"Total Students All Grades (Excludes AE) [Public School] 2018-19\"])]\n",
    "lunch_data = {\"fips\":[], \"students\":[]}\n",
    "exclude = []\n",
    "for i in range(len(frl_students)):\n",
    "    num = frl_students[i]\n",
    "    num2 = all_students[i]\n",
    "    if num in ['–', \"†\",'‡'] or num2 in ['–', \"†\",'‡', \"0\"]:\n",
    "        exclude.append(int(lunch_fips[i][:2]))\n",
    "        if int(lunch_fips[i][:2]) == 4:\n",
    "            print(num, num2)\n",
    "    else:\n",
    "        lunch_data[\"fips\"].append(lunch_fips[i])\n",
    "        lunch_data[\"students\"].append(float(frl_students[i])/float(all_students[i]))"
   ]
  },
  {
   "cell_type": "code",
   "execution_count": null,
   "metadata": {},
   "outputs": [],
   "source": [
    "lunch_df = pd.DataFrame(lunch_data)\n",
    "lunch_df.head()"
   ]
  },
  {
   "cell_type": "code",
   "execution_count": null,
   "metadata": {},
   "outputs": [],
   "source": [
    "print(max(lunch_df[\"students\"]))"
   ]
  },
  {
   "cell_type": "code",
   "execution_count": null,
   "metadata": {},
   "outputs": [],
   "source": [
    "plt.hist(lunch_df[\"students\"])"
   ]
  },
  {
   "cell_type": "code",
   "execution_count": null,
   "metadata": {},
   "outputs": [],
   "source": [
    "fig = px.choropleth(lunch_df, geojson=counties, locations='fips', color='students',\n",
    "                           color_continuous_scale=\"Viridis\",\n",
    "                           range_color=(0, 1),\n",
    "                           scope=\"usa\",\n",
    "                           labels={\"students\": \"num students\"}\n",
    "                          )\n",
    "fig.update_layout(margin={\"r\":0,\"t\":0,\"l\":0,\"b\":0})\n",
    "fig.show()"
   ]
  },
  {
   "cell_type": "code",
   "execution_count": null,
   "metadata": {},
   "outputs": [],
   "source": [
    "# formatting for D3 basic choropleth json\n",
    "data.head(2)"
   ]
  },
  {
   "cell_type": "code",
   "execution_count": null,
   "metadata": {},
   "outputs": [],
   "source": [
    "to_json = []\n",
    "for i in range(len(data)):\n",
    "    datum = {}\n",
    "    datum[\"fips\"] = int(data[\"County Number [Public School] 2018-19\"][i])\n",
    "    datum[\"state\"] = data[\"County Name\"][i].split()[-1]\n",
    "    datum[\"area_name\"] = \" \".join(data[\"County Name\"][i].split()[0:-1])\n",
    "    \n",
    "    # calculate percent of students\n",
    "    frl_students = data[\"Free and Reduced Lunch Students [Public School] 2018-19\"][i]\n",
    "    all_students = data[\"Total Students All Grades (Excludes AE) [Public School] 2018-19\"][i]\n",
    "    if frl_students in ['–', \"†\",'‡', \"0\"] or all_students in ['–', \"†\",'‡', \"0\"]:\n",
    "        continue\n",
    "    else:\n",
    "        percent = float(frl_students)/float(all_students)\n",
    "        datum[\"bachelorsOrHigher\"] = int(percent*100)\n",
    "        to_json.append(datum)\n",
    "print(to_json)"
   ]
  },
  {
   "cell_type": "code",
   "execution_count": null,
   "metadata": {},
   "outputs": [],
   "source": [
    "with open(\"lunch_data.json\", \"w\") as file_out:\n",
    "    json.dump(to_json, file_out)"
   ]
  },
  {
   "cell_type": "code",
   "execution_count": null,
   "metadata": {},
   "outputs": [],
   "source": []
  }
 ],
 "metadata": {
  "kernelspec": {
   "display_name": "Python 3",
   "language": "python",
   "name": "python3"
  },
  "language_info": {
   "codemirror_mode": {
    "name": "ipython",
    "version": 3
   },
   "file_extension": ".py",
   "mimetype": "text/x-python",
   "name": "python",
   "nbconvert_exporter": "python",
   "pygments_lexer": "ipython3",
   "version": "3.7.6"
  }
 },
 "nbformat": 4,
 "nbformat_minor": 4
}
