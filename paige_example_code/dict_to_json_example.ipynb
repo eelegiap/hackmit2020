{
 "cells": [
  {
   "cell_type": "markdown",
   "metadata": {},
   "source": [
    "## JSON Conversion (from case distribution to JSON file)"
   ]
  },
  {
   "cell_type": "code",
   "execution_count": 1,
   "metadata": {},
   "outputs": [],
   "source": [
    "import pickle\n",
    "import csv\n",
    "import json"
   ]
  },
  {
   "cell_type": "code",
   "execution_count": 2,
   "metadata": {},
   "outputs": [
    {
     "data": {
      "text/plain": [
       "dict_keys(['blogs_2013', 'fiction', 'public', 'science', 'speech'])"
      ]
     },
     "execution_count": 2,
     "metadata": {},
     "output_type": "execute_result"
    }
   ],
   "source": [
    "rnc = pickle.load(open(\"rnc-data.pickle\", \"rb\" ) )\n",
    "rnc.keys()"
   ]
  },
  {
   "cell_type": "code",
   "execution_count": 4,
   "metadata": {},
   "outputs": [],
   "source": [
    "# load inflections csv\n",
    "inflections = []\n",
    "with open('inflection.csv','r') as infile: \n",
    "    reader = csv.DictReader(infile, delimiter=\"\\t\")\n",
    "    for row in reader:\n",
    "        inflections.append(row)\n",
    "# load lemmas csv\n",
    "lemmas = []\n",
    "with open('lemma.csv','r') as infile: \n",
    "    reader = csv.DictReader(infile, delimiter=\"\\t\")\n",
    "    for row in reader:\n",
    "        lemmas.append(row)"
   ]
  },
  {
   "cell_type": "code",
   "execution_count": 74,
   "metadata": {},
   "outputs": [],
   "source": [
    "# create hash from lemma to id\n",
    "lemma_to_id = {}\n",
    "for ordict in lemmas:\n",
    "    lemma_to_id[ordict['lemma']] = ordict['id']\n",
    "\n",
    "# find case distribution of a word\n",
    "def get_occurrences(word):\n",
    "    # look up by id\n",
    "    def get_forms(lemma):\n",
    "        form_dict_lst = []\n",
    "        ID = lemma_to_id[lemma]\n",
    "        for form_dict in inflections:\n",
    "            if form_dict['lemma_id'] == ID:\n",
    "                form_dict_lst.append(form_dict['form'])\n",
    "        return form_dict_lst\n",
    "    \n",
    "    particular_forms = get_forms(word)\n",
    "    instances = []\n",
    "    total_word_count = 0\n",
    "\n",
    "    for folder in rnc.keys():\n",
    "        for file in rnc[folder].keys():\n",
    "            if folder == 'public' and file == '434522.xhtml':\n",
    "                continue\n",
    "            grammarlists = rnc[folder][file]['contents']['annotatedlist']\n",
    "            for grammarlist in grammarlists:\n",
    "                for form, lemma, grammar in grammarlist:\n",
    "                    total_word_count += 1\n",
    "                    if form in particular_forms:\n",
    "                        instances.append((form, grammar))\n",
    "    return instances"
   ]
  },
  {
   "cell_type": "code",
   "execution_count": 75,
   "metadata": {},
   "outputs": [],
   "source": [
    "import math\n",
    "\n",
    "# breakdown by case\n",
    "def get_JSON(word, prop=True, log=False):\n",
    "    \"\"\"creates the JSON object format (list of dicts) out of the case data. \n",
    "    prop=True means that the JSON is given as proportions. prop=False gives the\n",
    "    JSON as counts\"\"\"\n",
    "    \n",
    "    cases = ['acc','nom','ins','dat','loc','gen']\n",
    "    qtys = ['singular','plural']\n",
    "    # find sg vs. pl\n",
    "    # case_dict[case][sg/pl] = count\n",
    "    case_dict = {}\n",
    "    form_dict = {}\n",
    "    for case in cases:\n",
    "        case_dict[case] = {}\n",
    "        form_dict[case] = {}\n",
    "        for qty in qtys:\n",
    "            case_dict[case][qty] = 0\n",
    "            form_dict[case][qty] = ''\n",
    "        \n",
    "    # go through list of occurrences to filter by sg/pl counts\n",
    "    for form, grammar in get_occurrences(word):\n",
    "        if 'A,' in grammar or 'S,' in grammar:\n",
    "            for case in cases:\n",
    "                if case in grammar:\n",
    "                    if 'sg' in grammar:\n",
    "                        case_dict[case]['singular'] += 1\n",
    "                        form_dict[case]['singular'] = form\n",
    "                    if 'pl' in grammar:\n",
    "                        case_dict[case]['plural'] += 1\n",
    "                        form_dict[case]['plural'] = form\n",
    "                            \n",
    "    # if proportions instead of counts,\n",
    "    # reset values in case_dict to proportions\n",
    "    if prop:\n",
    "        # create proportions from counts \n",
    "        total_counts = {}\n",
    "        total_counts['singular'] = 0\n",
    "        total_counts['plural'] = 0\n",
    "        for case in cases:\n",
    "            for qty in qtys:\n",
    "                total_counts[qty] += case_dict[case][qty]\n",
    "        # avoid division by zero error\n",
    "        for qty in qtys:\n",
    "            if total_counts[qty] == 0:\n",
    "                total_counts[qty] = 1\n",
    "        # calculate proportions\n",
    "        for case in cases:\n",
    "            for qty in qtys:\n",
    "                case_dict[case][qty] = case_dict[case][qty] / total_counts[qty]\n",
    "    if log:\n",
    "        for case in cases:\n",
    "            for qty in qtys:\n",
    "                case_dict[case][qty] = math.log10(case_dict[case][qty] + 1)\n",
    "                \n",
    "    # create the JSON object for use in the radar chart\n",
    "    json_list = []\n",
    "    for class_name in ['singular', 'plural']:\n",
    "        class_dict = dict()\n",
    "        class_dict['className'] = class_name\n",
    "        class_dict['axes'] = []\n",
    "        for case in case_dict.keys():\n",
    "            form_label = case + ' (' + form_dict[case]['singular'] + '/' + form_dict[case]['plural'] + ')'    \n",
    "            case_count = case_dict[case][class_name]\n",
    "            axes_dict = dict()\n",
    "            axes_dict['axis'] = form_label\n",
    "            axes_dict['value'] = case_dict[case][class_name]\n",
    "            class_dict['axes'].append(axes_dict)\n",
    "        json_list.append(class_dict)\n",
    "    return json_list"
   ]
  },
  {
   "cell_type": "code",
   "execution_count": 76,
   "metadata": {},
   "outputs": [],
   "source": [
    "# using the google translate api to create file names\n",
    "from googletrans import Translator\n",
    "translator = Translator()\n",
    "def translate(text):\n",
    "    return translator.translate(text).text\n",
    "\n",
    "def write_JSON(word,prop=True,log=False):\n",
    "    if prop:\n",
    "        filepath = '../prop_data/' + translate(word)\n",
    "    else:\n",
    "        filepath = '../count_data/' + translate(word)\n",
    "    if log:\n",
    "        filepath = filepath + '_log'\n",
    "    filepath = filepath + '.json'\n",
    "    with open(filepath, 'w', encoding='utf8') as json_file:\n",
    "        json.dump(get_JSON(word,prop,log), json_file, ensure_ascii=False)\n",
    "    print(filepath,'written successfully.')"
   ]
  },
  {
   "cell_type": "code",
   "execution_count": 70,
   "metadata": {},
   "outputs": [
    {
     "name": "stdout",
     "output_type": "stream",
     "text": [
      "../count_data/fork.json written successfully.\n",
      "../count_data/the spoon.json written successfully.\n",
      "../count_data/knife.json written successfully.\n"
     ]
    }
   ],
   "source": [
    "# for word in ['вилка','ложка','нож']:\n",
    "#     write_JSON(word,prop=False)"
   ]
  },
  {
   "cell_type": "code",
   "execution_count": 77,
   "metadata": {},
   "outputs": [
    {
     "name": "stdout",
     "output_type": "stream",
     "text": [
      "../count_data/the spoon.json written successfully.\n"
     ]
    }
   ],
   "source": [
    "write_JSON('ложка',prop=False)"
   ]
  },
  {
   "cell_type": "code",
   "execution_count": null,
   "metadata": {},
   "outputs": [],
   "source": []
  }
 ],
 "metadata": {
  "kernelspec": {
   "display_name": "Python 3",
   "language": "python",
   "name": "python3"
  },
  "language_info": {
   "codemirror_mode": {
    "name": "ipython",
    "version": 3
   },
   "file_extension": ".py",
   "mimetype": "text/x-python",
   "name": "python",
   "nbconvert_exporter": "python",
   "pygments_lexer": "ipython3",
   "version": "3.7.3"
  }
 },
 "nbformat": 4,
 "nbformat_minor": 2
}
