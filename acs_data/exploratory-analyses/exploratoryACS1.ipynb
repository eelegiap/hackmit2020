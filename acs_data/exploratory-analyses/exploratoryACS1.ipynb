{
 "cells": [
  {
   "cell_type": "code",
   "execution_count": 1,
   "metadata": {},
   "outputs": [],
   "source": [
    "import pandas as pd \n",
    "data = pd.read_csv('usa1.csv') "
   ]
  },
  {
   "cell_type": "code",
   "execution_count": 2,
   "metadata": {},
   "outputs": [
    {
     "data": {
      "text/html": [
       "<div>\n",
       "<style scoped>\n",
       "    .dataframe tbody tr th:only-of-type {\n",
       "        vertical-align: middle;\n",
       "    }\n",
       "\n",
       "    .dataframe tbody tr th {\n",
       "        vertical-align: top;\n",
       "    }\n",
       "\n",
       "    .dataframe thead th {\n",
       "        text-align: right;\n",
       "    }\n",
       "</style>\n",
       "<table border=\"1\" class=\"dataframe\">\n",
       "  <thead>\n",
       "    <tr style=\"text-align: right;\">\n",
       "      <th></th>\n",
       "      <th>YEAR</th>\n",
       "      <th>SAMPLE</th>\n",
       "      <th>SERIAL</th>\n",
       "      <th>CBSERIAL</th>\n",
       "      <th>HHWT</th>\n",
       "      <th>CLUSTER</th>\n",
       "      <th>STRATA</th>\n",
       "      <th>GQ</th>\n",
       "      <th>ACREHOUS</th>\n",
       "      <th>PROPTX99</th>\n",
       "      <th>...</th>\n",
       "      <th>RACED</th>\n",
       "      <th>HISPAN</th>\n",
       "      <th>HISPAND</th>\n",
       "      <th>CITIZEN</th>\n",
       "      <th>LANGUAGE</th>\n",
       "      <th>LANGUAGED</th>\n",
       "      <th>SPEAKENG</th>\n",
       "      <th>EDUC</th>\n",
       "      <th>EDUCD</th>\n",
       "      <th>FTOTINC</th>\n",
       "    </tr>\n",
       "  </thead>\n",
       "  <tbody>\n",
       "    <tr>\n",
       "      <th>0</th>\n",
       "      <td>2018</td>\n",
       "      <td>201801</td>\n",
       "      <td>1</td>\n",
       "      <td>2018010000049</td>\n",
       "      <td>75.0</td>\n",
       "      <td>2018000000011</td>\n",
       "      <td>160001</td>\n",
       "      <td>4</td>\n",
       "      <td>0</td>\n",
       "      <td>0</td>\n",
       "      <td>...</td>\n",
       "      <td>100</td>\n",
       "      <td>0</td>\n",
       "      <td>0</td>\n",
       "      <td>0</td>\n",
       "      <td>1</td>\n",
       "      <td>100</td>\n",
       "      <td>3</td>\n",
       "      <td>6</td>\n",
       "      <td>65</td>\n",
       "      <td>9999999</td>\n",
       "    </tr>\n",
       "    <tr>\n",
       "      <th>1</th>\n",
       "      <td>2018</td>\n",
       "      <td>201801</td>\n",
       "      <td>2</td>\n",
       "      <td>2018010000058</td>\n",
       "      <td>75.0</td>\n",
       "      <td>2018000000021</td>\n",
       "      <td>190001</td>\n",
       "      <td>4</td>\n",
       "      <td>0</td>\n",
       "      <td>0</td>\n",
       "      <td>...</td>\n",
       "      <td>200</td>\n",
       "      <td>0</td>\n",
       "      <td>0</td>\n",
       "      <td>0</td>\n",
       "      <td>1</td>\n",
       "      <td>100</td>\n",
       "      <td>3</td>\n",
       "      <td>6</td>\n",
       "      <td>65</td>\n",
       "      <td>9999999</td>\n",
       "    </tr>\n",
       "    <tr>\n",
       "      <th>2</th>\n",
       "      <td>2018</td>\n",
       "      <td>201801</td>\n",
       "      <td>3</td>\n",
       "      <td>2018010000219</td>\n",
       "      <td>118.0</td>\n",
       "      <td>2018000000031</td>\n",
       "      <td>200001</td>\n",
       "      <td>3</td>\n",
       "      <td>0</td>\n",
       "      <td>0</td>\n",
       "      <td>...</td>\n",
       "      <td>100</td>\n",
       "      <td>1</td>\n",
       "      <td>100</td>\n",
       "      <td>0</td>\n",
       "      <td>12</td>\n",
       "      <td>1200</td>\n",
       "      <td>5</td>\n",
       "      <td>6</td>\n",
       "      <td>64</td>\n",
       "      <td>9999999</td>\n",
       "    </tr>\n",
       "    <tr>\n",
       "      <th>3</th>\n",
       "      <td>2018</td>\n",
       "      <td>201801</td>\n",
       "      <td>4</td>\n",
       "      <td>2018010000246</td>\n",
       "      <td>43.0</td>\n",
       "      <td>2018000000041</td>\n",
       "      <td>240001</td>\n",
       "      <td>3</td>\n",
       "      <td>0</td>\n",
       "      <td>0</td>\n",
       "      <td>...</td>\n",
       "      <td>100</td>\n",
       "      <td>0</td>\n",
       "      <td>0</td>\n",
       "      <td>0</td>\n",
       "      <td>1</td>\n",
       "      <td>100</td>\n",
       "      <td>3</td>\n",
       "      <td>7</td>\n",
       "      <td>71</td>\n",
       "      <td>9999999</td>\n",
       "    </tr>\n",
       "    <tr>\n",
       "      <th>4</th>\n",
       "      <td>2018</td>\n",
       "      <td>201801</td>\n",
       "      <td>5</td>\n",
       "      <td>2018010000251</td>\n",
       "      <td>16.0</td>\n",
       "      <td>2018000000051</td>\n",
       "      <td>270101</td>\n",
       "      <td>3</td>\n",
       "      <td>0</td>\n",
       "      <td>0</td>\n",
       "      <td>...</td>\n",
       "      <td>100</td>\n",
       "      <td>0</td>\n",
       "      <td>0</td>\n",
       "      <td>0</td>\n",
       "      <td>1</td>\n",
       "      <td>100</td>\n",
       "      <td>3</td>\n",
       "      <td>3</td>\n",
       "      <td>30</td>\n",
       "      <td>9999999</td>\n",
       "    </tr>\n",
       "  </tbody>\n",
       "</table>\n",
       "<p>5 rows × 31 columns</p>\n",
       "</div>"
      ],
      "text/plain": [
       "   YEAR  SAMPLE  SERIAL       CBSERIAL   HHWT        CLUSTER  STRATA  GQ  \\\n",
       "0  2018  201801       1  2018010000049   75.0  2018000000011  160001   4   \n",
       "1  2018  201801       2  2018010000058   75.0  2018000000021  190001   4   \n",
       "2  2018  201801       3  2018010000219  118.0  2018000000031  200001   3   \n",
       "3  2018  201801       4  2018010000246   43.0  2018000000041  240001   3   \n",
       "4  2018  201801       5  2018010000251   16.0  2018000000051  270101   3   \n",
       "\n",
       "   ACREHOUS  PROPTX99  ...  RACED  HISPAN  HISPAND  CITIZEN  LANGUAGE  \\\n",
       "0         0         0  ...    100       0        0        0         1   \n",
       "1         0         0  ...    200       0        0        0         1   \n",
       "2         0         0  ...    100       1      100        0        12   \n",
       "3         0         0  ...    100       0        0        0         1   \n",
       "4         0         0  ...    100       0        0        0         1   \n",
       "\n",
       "   LANGUAGED  SPEAKENG  EDUC  EDUCD  FTOTINC  \n",
       "0        100         3     6     65  9999999  \n",
       "1        100         3     6     65  9999999  \n",
       "2       1200         5     6     64  9999999  \n",
       "3        100         3     7     71  9999999  \n",
       "4        100         3     3     30  9999999  \n",
       "\n",
       "[5 rows x 31 columns]"
      ]
     },
     "execution_count": 2,
     "metadata": {},
     "output_type": "execute_result"
    }
   ],
   "source": [
    "data.head()"
   ]
  },
  {
   "cell_type": "code",
   "execution_count": 20,
   "metadata": {},
   "outputs": [
    {
     "data": {
      "text/plain": [
       "3214539"
      ]
     },
     "execution_count": 20,
     "metadata": {},
     "output_type": "execute_result"
    }
   ],
   "source": [
    "len(data)"
   ]
  },
  {
   "cell_type": "code",
   "execution_count": 12,
   "metadata": {},
   "outputs": [
    {
     "data": {
      "text/plain": [
       "{0: 0, 1: 2833160, 2: 381379}"
      ]
     },
     "execution_count": 12,
     "metadata": {},
     "output_type": "execute_result"
    }
   ],
   "source": [
    "s = {}\n",
    "s[0] = 0\n",
    "s[1] = 0\n",
    "s[2] = 0\n",
    "for status in data['FOODSTMP'].to_list():\n",
    "    s[status] += 1\n",
    "s"
   ]
  },
  {
   "cell_type": "code",
   "execution_count": 17,
   "metadata": {},
   "outputs": [
    {
     "data": {
      "text/plain": [
       "{0: 153475, 1: 1215999, 2: 1604083, 3: 240982}"
      ]
     },
     "execution_count": 17,
     "metadata": {},
     "output_type": "execute_result"
    }
   ],
   "source": [
    "multi = {}\n",
    "for multistatus in data['MULTGEN'].to_list():\n",
    "    if multistatus in multi.keys():\n",
    "        multi[multistatus] += 1\n",
    "    else:\n",
    "        multi[multistatus] = 1\n",
    "multi"
   ]
  },
  {
   "cell_type": "code",
   "execution_count": 18,
   "metadata": {},
   "outputs": [
    {
     "data": {
      "text/plain": [
       "{0: 2805714, 2: 209000, 3: 169279, 1: 30546}"
      ]
     },
     "execution_count": 18,
     "metadata": {},
     "output_type": "execute_result"
    }
   ],
   "source": [
    "citizenship = {}\n",
    "for c in data['CITIZEN'].to_list():\n",
    "    if c in citizenship.keys():\n",
    "        citizenship[c] += 1\n",
    "    else:\n",
    "        citizenship[c] = 1\n",
    "citizenship"
   ]
  },
  {
   "cell_type": "code",
   "execution_count": 19,
   "metadata": {},
   "outputs": [
    {
     "data": {
      "text/plain": [
       "{3: 2489846, 5: 110984, 4: 351477, 6: 71848, 1: 28057, 0: 162327}"
      ]
     },
     "execution_count": 19,
     "metadata": {},
     "output_type": "execute_result"
    }
   ],
   "source": [
    "speakeng = {}\n",
    "for c in data['SPEAKENG'].to_list():\n",
    "    if c in speakeng.keys():\n",
    "        speakeng[c] += 1\n",
    "    else:\n",
    "        speakeng[c] = 1\n",
    "speakeng"
   ]
  },
  {
   "cell_type": "code",
   "execution_count": 14,
   "metadata": {},
   "outputs": [
    {
     "data": {
      "text/plain": [
       "['YEAR',\n",
       " 'SAMPLE',\n",
       " 'SERIAL',\n",
       " 'CBSERIAL',\n",
       " 'HHWT',\n",
       " 'CLUSTER',\n",
       " 'STRATA',\n",
       " 'GQ',\n",
       " 'ACREHOUS',\n",
       " 'PROPTX99',\n",
       " 'HHINCOME',\n",
       " 'FOODSTMP',\n",
       " 'VALUEH',\n",
       " 'ROOMS',\n",
       " 'MULTGEN',\n",
       " 'MULTGEND',\n",
       " 'PERNUM',\n",
       " 'PERWT',\n",
       " 'FAMSIZE',\n",
       " 'NSIBS',\n",
       " 'RACE',\n",
       " 'RACED',\n",
       " 'HISPAN',\n",
       " 'HISPAND',\n",
       " 'CITIZEN',\n",
       " 'LANGUAGE',\n",
       " 'LANGUAGED',\n",
       " 'SPEAKENG',\n",
       " 'EDUC',\n",
       " 'EDUCD',\n",
       " 'FTOTINC']"
      ]
     },
     "execution_count": 14,
     "metadata": {},
     "output_type": "execute_result"
    }
   ],
   "source": [
    "list(data.columns) "
   ]
  },
  {
   "cell_type": "code",
   "execution_count": null,
   "metadata": {},
   "outputs": [],
   "source": []
  }
 ],
 "metadata": {
  "kernelspec": {
   "display_name": "Python 3",
   "language": "python",
   "name": "python3"
  },
  "language_info": {
   "codemirror_mode": {
    "name": "ipython",
    "version": 3
   },
   "file_extension": ".py",
   "mimetype": "text/x-python",
   "name": "python",
   "nbconvert_exporter": "python",
   "pygments_lexer": "ipython3",
   "version": "3.7.3"
  }
 },
 "nbformat": 4,
 "nbformat_minor": 2
}
