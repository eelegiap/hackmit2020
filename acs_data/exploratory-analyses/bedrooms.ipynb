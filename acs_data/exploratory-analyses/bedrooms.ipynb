{
 "cells": [
  {
   "cell_type": "markdown",
   "metadata": {},
   "source": [
    "### Step 1: Read in data and drop all data for non-K12 persons \n",
    "Probably will have to do this for all analyses, unless we are looking also at family members. The data needs to include the \"GRADEATT\" and \"SCHOOL\" attributes. This portion starts with a df and creates df_k12 which includes only K-12 persons. \n",
    "\n",
    "See internet_access.ipynb for details on steps/the most comprehensive documentation out of all of these. "
   ]
  },
  {
   "cell_type": "code",
   "execution_count": 1,
   "metadata": {},
   "outputs": [],
   "source": [
    "import csv\n",
    "import json\n",
    "import numpy as np\n",
    "import pandas as pd\n",
    "\n",
    "df = pd.read_csv(\"../../../acs_data.csv\")\n",
    "df_students = df[df['SCHOOL'] == 2]\n",
    "df_k12 = df_students[(df_students.GRADEATT != 1) & (df_students['GRADEATT'] != 6) & (df_students['GRADEATT'] != 7)]"
   ]
  },
  {
   "cell_type": "markdown",
   "metadata": {},
   "source": [
    "### Step 2: Feature-specific analysis"
   ]
  },
  {
   "cell_type": "code",
   "execution_count": 4,
   "metadata": {},
   "outputs": [],
   "source": [
    "# Drop rows w/o info on internet access\n",
    "df_k12 = df_k12[df_k12['BEDROOMS'] != 0]"
   ]
  },
  {
   "cell_type": "code",
   "execution_count": 22,
   "metadata": {},
   "outputs": [],
   "source": [
    "df_k12['few_rooms'] = 0\n",
    "df_k12.loc[df_k12['BEDROOMS'] < df_k12['NUMPREC'] - 1,'few_rooms'] = 1"
   ]
  },
  {
   "cell_type": "code",
   "execution_count": 23,
   "metadata": {},
   "outputs": [
    {
     "data": {
      "text/plain": [
       "0.1727517020101407"
      ]
     },
     "execution_count": 23,
     "metadata": {},
     "output_type": "execute_result"
    }
   ],
   "source": [
    "sum(df_k12['few_rooms'])/len(df_k12['few_rooms'])"
   ]
  },
  {
   "cell_type": "code",
   "execution_count": 24,
   "metadata": {},
   "outputs": [],
   "source": [
    "df_k12['few_rooms'] = df_k12['few_rooms'] * df_k12['PERWT']"
   ]
  },
  {
   "cell_type": "code",
   "execution_count": 25,
   "metadata": {},
   "outputs": [
    {
     "data": {
      "text/plain": [
       "53592256.0"
      ]
     },
     "execution_count": 25,
     "metadata": {},
     "output_type": "execute_result"
    }
   ],
   "source": [
    "sum(df_k12['PERWT'])"
   ]
  },
  {
   "cell_type": "markdown",
   "metadata": {},
   "source": [
    "### Step 3: Output csv"
   ]
  },
  {
   "cell_type": "code",
   "execution_count": 27,
   "metadata": {},
   "outputs": [],
   "source": [
    "# Get conversion from fips to state\n",
    "with open(\"../FIPSconversion/fipsToState.json\") as json_file:\n",
    "    state_fips = json.load(json_file)"
   ]
  },
  {
   "cell_type": "code",
   "execution_count": 33,
   "metadata": {},
   "outputs": [],
   "source": [
    "l = [] # list of dictionaries\n",
    "\n",
    "for fips in state_fips:\n",
    "    few_rooms = df_k12.loc[df_k12['STATEFIP'] == int(fips), 'few_rooms'].sum()\n",
    "    total = df_k12.loc[df_k12['STATEFIP'] == int(fips), 'PERWT'].sum()\n",
    "    rate = int((few_rooms / total) * 100)\n",
    "    state_name = state_fips[fips]\n",
    "    l.append({'AREANM':state_name, 'AREACD':state_name, 'value':rate})\n"
   ]
  },
  {
   "cell_type": "code",
   "execution_count": 34,
   "metadata": {},
   "outputs": [],
   "source": [
    "# output as CSV\n",
    "out = pd.DataFrame(l)\n",
    "out.to_csv('../bedrooms.csv',index = False)"
   ]
  },
  {
   "cell_type": "code",
   "execution_count": null,
   "metadata": {},
   "outputs": [],
   "source": [
    "# output as JSON file\n",
    "with open('../bedrooms.json', 'w') as fout:\n",
    "    json.dump(l, fout)"
   ]
  }
 ],
 "metadata": {
  "kernelspec": {
   "display_name": "Python 3",
   "language": "python",
   "name": "python3"
  },
  "language_info": {
   "codemirror_mode": {
    "name": "ipython",
    "version": 3
   },
   "file_extension": ".py",
   "mimetype": "text/x-python",
   "name": "python",
   "nbconvert_exporter": "python",
   "pygments_lexer": "ipython3",
   "version": "3.7.3"
  }
 },
 "nbformat": 4,
 "nbformat_minor": 2
}
